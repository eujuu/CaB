{
 "cells": [
  {
   "cell_type": "code",
   "execution_count": 3,
   "metadata": {},
   "outputs": [],
   "source": [
    "import csv\n",
    "import math\n",
    "\n",
    "activityID = [\"0512150222\"]\n",
    "\n",
    "for j in range(1):\n",
    "    writefilename = activityID[j]+'features.csv'\n",
    "    readfilename = activityID[j]+'.csv'\n",
    "    with open(writefilename, 'wt', newline=\"\") as testfile:\n",
    "        csv_writer = csv.writer(testfile)\n",
    "        # open file\n",
    "        with open(readfilename, 'rt') as f:\n",
    "            reader = csv.reader(f)\n",
    "            # read file row by row\n",
    "            for row in reader:\n",
    "                try:\n",
    "                    torsox = float(row[6])\n",
    "                    torsoy = float(row[7])\n",
    "                    torsoz = float(row[8])\n",
    "                    neckx = float(row[3])\n",
    "                    necky = float(row[4])\n",
    "                    neckz = float(row[5])\n",
    "                    denom = math.sqrt(math.pow((neckx - torsox),2) + math.pow((necky - torsoy),2) + math.pow((neckz - torsoz),2))\n",
    "                    tmp = []\n",
    "                    i = 0\n",
    "                    while (i < 6):\n",
    "                        tmp.append((float(row[i]) - torsox)/denom)\n",
    "                        tmp.append((float(row[i+1]) - torsoy)/denom)\n",
    "                        tmp.append((float(row[i+2]) - torsoz)/denom)\n",
    "                        i+=3\n",
    "                    i = 9\n",
    "                    while (i < 45):\n",
    "                        tmp.append((float(row[i]) - torsox)/denom)\n",
    "                        tmp.append((float(row[i+1]) - torsoy)/denom)\n",
    "                        tmp.append((float(row[i+2]) - torsoz)/denom)\n",
    "                        i+=3\n",
    "                    csv_writer.writerow(tmp)\n",
    "                except:\n",
    "                    print(\"Reached file end: \",readfilename)\n",
    "                \n"
   ]
  },
  {
   "cell_type": "markdown",
   "metadata": {},
   "source": [
    "# "
   ]
  }
 ],
 "metadata": {
  "kernelspec": {
   "display_name": "Python 3",
   "language": "python",
   "name": "python3"
  },
  "language_info": {
   "codemirror_mode": {
    "name": "ipython",
    "version": 3
   },
   "file_extension": ".py",
   "mimetype": "text/x-python",
   "name": "python",
   "nbconvert_exporter": "python",
   "pygments_lexer": "ipython3",
   "version": "3.6.7"
  }
 },
 "nbformat": 4,
 "nbformat_minor": 2
}
